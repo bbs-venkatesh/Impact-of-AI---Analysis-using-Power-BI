{
 "cells": [
  {
   "cell_type": "code",
   "execution_count": 6,
   "id": "2c1aa73f-b4b2-464b-9fc0-275bf75aa20a",
   "metadata": {},
   "outputs": [],
   "source": [
    "import kaggle\n",
    "import pandas as pd\n",
    "from sqlalchemy import create_engine"
   ]
  },
  {
   "cell_type": "code",
   "execution_count": 2,
   "id": "9f16e2c6-6f68-47af-acd3-9b8d4dc8b0ca",
   "metadata": {},
   "outputs": [],
   "source": [
    "kaggle.api.authenticate()"
   ]
  },
  {
   "cell_type": "code",
   "execution_count": 4,
   "id": "5db2acc8-4870-491d-9ee5-61054619fc47",
   "metadata": {},
   "outputs": [
    {
     "name": "stdout",
     "output_type": "stream",
     "text": [
      "Dataset URL: https://www.kaggle.com/datasets/atharvasoundankar/impact-of-ai-on-digital-media-2020-2025\n"
     ]
    }
   ],
   "source": [
    "kaggle.api.dataset_download_files('atharvasoundankar/impact-of-ai-on-digital-media-2020-2025', path='.', unzip=True)"
   ]
  },
  {
   "cell_type": "code",
   "execution_count": 11,
   "id": "cd780120-0cf0-4efc-b045-0bfc6fef7a61",
   "metadata": {},
   "outputs": [],
   "source": [
    "db_host = 'localhost'\n",
    "db_user = 'root'\n",
    "db_password = 'root'\n",
    "db_name = 'ai_impact'"
   ]
  },
  {
   "cell_type": "code",
   "execution_count": 12,
   "id": "73e22bb4-2dee-4864-a62b-0a6f9c223d70",
   "metadata": {},
   "outputs": [
    {
     "name": "stdout",
     "output_type": "stream",
     "text": [
      "Successfully Loaded..!\n"
     ]
    },
    {
     "name": "stderr",
     "output_type": "stream",
     "text": [
      "C:\\Users\\Admin\\AppData\\Local\\Temp\\ipykernel_18424\\134435704.py:4: UserWarning: The provided table name 'AI_Impact' is not found exactly as such in the database after writing the table, possibly due to case sensitivity issues. Consider using lower case table names.\n",
      "  df.to_sql(name='AI_Impact', con=engine, if_exists='replace', index='False')\n"
     ]
    }
   ],
   "source": [
    "engine = create_engine(f'mysql+mysqlconnector://{db_user}:{db_password}@{db_host}/{db_name}')\n",
    "\n",
    "df = pd.read_csv('D:\\\\Data Analytics\\\\Data\\\\Impact of AI\\\\Global_AI_Content_Impact_Dataset.csv')\n",
    "df.to_sql(name='AI_Impact', con=engine, if_exists='replace', index='False')\n",
    "print('Successfully Loaded..!')"
   ]
  },
  {
   "cell_type": "code",
   "execution_count": null,
   "id": "f85fb668-1dad-45d7-add8-47d2728b4eda",
   "metadata": {},
   "outputs": [],
   "source": []
  }
 ],
 "metadata": {
  "kernelspec": {
   "display_name": "Python 3 (ipykernel)",
   "language": "python",
   "name": "python3"
  },
  "language_info": {
   "codemirror_mode": {
    "name": "ipython",
    "version": 3
   },
   "file_extension": ".py",
   "mimetype": "text/x-python",
   "name": "python",
   "nbconvert_exporter": "python",
   "pygments_lexer": "ipython3",
   "version": "3.13.5"
  }
 },
 "nbformat": 4,
 "nbformat_minor": 5
}
